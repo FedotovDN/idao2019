{
 "cells": [
  {
   "cell_type": "markdown",
   "metadata": {},
   "source": [
    "### This is the final notebook. All experimental code and tuning-code can be watched in draft.ipynb."
   ]
  },
  {
   "cell_type": "code",
   "execution_count": 1,
   "metadata": {},
   "outputs": [],
   "source": [
    "import os\n",
    "import numpy as np\n",
    "import pandas as pd\n",
    "import utils\n",
    "import xgboost\n",
    "import scoring\n",
    "import catboost\n",
    "import lightgbm as lgb"
   ]
  },
  {
   "cell_type": "code",
   "execution_count": 2,
   "metadata": {},
   "outputs": [],
   "source": [
    "DATA_PATH = \"./data\""
   ]
  },
  {
   "cell_type": "code",
   "execution_count": 3,
   "metadata": {},
   "outputs": [
    {
     "name": "stdout",
     "output_type": "stream",
     "text": [
      "CPU times: user 2min 33s, sys: 34.4 s, total: 3min 7s\n",
      "Wall time: 3min 20s\n"
     ]
    }
   ],
   "source": [
    "%%time\n",
    "train = utils.load_train_hdf(DATA_PATH)"
   ]
  },
  {
   "cell_type": "code",
   "execution_count": 29,
   "metadata": {},
   "outputs": [
    {
     "name": "stdout",
     "output_type": "stream",
     "text": [
      "CPU times: user 26.5 s, sys: 6.26 s, total: 32.7 s\n",
      "Wall time: 32.7 s\n"
     ]
    }
   ],
   "source": [
    "%%time\n",
    "test_private = pd.read_hdf(DATA_PATH + '/test_private_v2_track_1.hdf', axis=0, ignore_index=True)"
   ]
  },
  {
   "cell_type": "code",
   "execution_count": 16,
   "metadata": {},
   "outputs": [],
   "source": [
    "KILL_COLUMNS = ['sWeight',\n",
    " 'particle_type',\n",
    " 'label',\n",
    " 'kinWeight',\n",
    " 'weight']"
   ]
  },
  {
   "cell_type": "markdown",
   "metadata": {},
   "source": [
    "# Adding new features"
   ]
  },
  {
   "cell_type": "markdown",
   "metadata": {},
   "source": [
    "### Function for counting of closest hit per station"
   ]
  },
  {
   "cell_type": "code",
   "execution_count": 31,
   "metadata": {},
   "outputs": [],
   "source": [
    "def find_closest_hit_per_station(row):\n",
    "    result = [1000,1000,1000,1000,1000,1000,1000,1000,1000,1000,1000,1000,1000,1000,1000,1000,1000,1000,1000,1000,1000,1000,1000,1000]\n",
    "    mind = [0, 0, 0, 0]\n",
    "    hits = 0\n",
    "    for station in row[\"FOI_hits_S\"]:\n",
    "        x_distances_2 = (row[\"Lextra_X[\" + str(station) + \"]\"] - row[\"FOI_hits_X\"][hits])**2\n",
    "        y_distances_2 = (row[\"Lextra_Y[\" + str(station) + \"]\"] - row[\"FOI_hits_Y\"][hits])**2\n",
    "        distances_2 = x_distances_2 + y_distances_2\n",
    "        if mind[station] == 0:\n",
    "            mind[station] = distances_2\n",
    "            result[station*6 + 0] = x_distances_2\n",
    "            result[station*6 + 1] = y_distances_2\n",
    "            result[station*6 + 2] = row[\"FOI_hits_T\"][hits]\n",
    "            result[station*6 + 3] = row[\"FOI_hits_Z\"][hits]\n",
    "            result[station*6 + 4] = row[\"FOI_hits_DX\"][hits]\n",
    "            result[station*6 + 5] = row[\"FOI_hits_DY\"][hits]\n",
    "        else:\n",
    "            if mind[station] > distances_2:\n",
    "                mind[station] = distances_2\n",
    "                result[station*6 + 0] = x_distances_2\n",
    "                result[station*6 + 1] = y_distances_2\n",
    "                result[station*6 + 2] = row[\"FOI_hits_T\"][hits]\n",
    "                result[station*6 + 3] = row[\"FOI_hits_Z\"][hits]\n",
    "                result[station*6 + 4] = row[\"FOI_hits_DX\"][hits]\n",
    "                result[station*6 + 5] = row[\"FOI_hits_DY\"][hits]\n",
    "        hits = hits + 1\n",
    "    return result"
   ]
  },
  {
   "cell_type": "markdown",
   "metadata": {},
   "source": [
    "### Same function for counting of closest hit per station. In that function I use the same order of features as in \"advanced_baseline\". I decided to use two functions with different order of features, because I saw different results using LightGBM by using different orders of features (it's strange, but usefull)."
   ]
  },
  {
   "cell_type": "code",
   "execution_count": 32,
   "metadata": {},
   "outputs": [],
   "source": [
    "def find_closest_hit_per_station2(row):\n",
    "    result = [1000,1000,1000,1000,1000,1000,1000,1000,1000,1000,1000,1000,1000,1000,1000,1000,1000,1000,1000,1000,1000,1000,1000,1000]\n",
    "    mind = [0, 0, 0, 0]\n",
    "    hits = 0\n",
    "    for station in row[\"FOI_hits_S\"]:\n",
    "        x_distances_2 = (row[\"Lextra_X[\" + str(station) + \"]\"] - row[\"FOI_hits_X\"][hits])**2\n",
    "        y_distances_2 = (row[\"Lextra_Y[\" + str(station) + \"]\"] - row[\"FOI_hits_Y\"][hits])**2\n",
    "        distances_2 = x_distances_2 + y_distances_2\n",
    "        if mind[station] == 0:\n",
    "            mind[station] = distances_2\n",
    "            result[station] = x_distances_2\n",
    "            result[4 + station] = y_distances_2\n",
    "            result[8 + station] = row[\"FOI_hits_T\"][hits]\n",
    "            result[12 + station] = row[\"FOI_hits_Z\"][hits]\n",
    "            result[16 + station] = row[\"FOI_hits_DX\"][hits]\n",
    "            result[20 + station] = row[\"FOI_hits_DY\"][hits]\n",
    "        else:\n",
    "            if mind[station] > distances_2:\n",
    "                mind[station] = distances_2\n",
    "                result[station] = x_distances_2\n",
    "                result[4 + station] = y_distances_2\n",
    "                result[8 + station] = row[\"FOI_hits_T\"][hits]\n",
    "                result[12 + station] = row[\"FOI_hits_Z\"][hits]\n",
    "                result[16 + station] = row[\"FOI_hits_DX\"][hits]\n",
    "                result[20 + station] = row[\"FOI_hits_DY\"][hits]\n",
    "        hits = hits + 1\n",
    "    return result"
   ]
  },
  {
   "cell_type": "code",
   "execution_count": null,
   "metadata": {},
   "outputs": [],
   "source": [
    "%%time\n",
    "closest_hits_features = train.apply(find_closest_hit_per_station, axis=1, result_type=\"expand\")"
   ]
  },
  {
   "cell_type": "code",
   "execution_count": null,
   "metadata": {},
   "outputs": [
    {
     "name": "stdout",
     "output_type": "stream",
     "text": [
      "CPU times: user 1h 47min 42s, sys: 15.2 s, total: 1h 47min 58s\n",
      "Wall time: 1h 47min 57s\n"
     ]
    }
   ],
   "source": [
    "%%time\n",
    "closest_hits_features2 = train.apply(find_closest_hit_per_station2, axis=1, result_type=\"expand\")"
   ]
  },
  {
   "cell_type": "markdown",
   "metadata": {},
   "source": [
    "### I will use two train-dataset with different order of new features"
   ]
  },
  {
   "cell_type": "code",
   "execution_count": null,
   "metadata": {},
   "outputs": [],
   "source": [
    "%%time\n",
    "train2 = pd.concat([train, closest_hits_features2], axis=1)"
   ]
  },
  {
   "cell_type": "code",
   "execution_count": null,
   "metadata": {},
   "outputs": [],
   "source": [
    "%%time\n",
    "train = pd.concat([train, closest_hits_features], axis=1)"
   ]
  },
  {
   "cell_type": "markdown",
   "metadata": {},
   "source": [
    "### The same operations with test-dataset"
   ]
  },
  {
   "cell_type": "code",
   "execution_count": null,
   "metadata": {},
   "outputs": [],
   "source": [
    "%%time\n",
    "closest_hits_features_test = test_private.apply(find_closest_hit_per_station, axis=1, result_type=\"expand\")"
   ]
  },
  {
   "cell_type": "code",
   "execution_count": null,
   "metadata": {},
   "outputs": [],
   "source": [
    "%%time\n",
    "closest_hits_features_test2 = test_private.apply(find_closest_hit_per_station2, axis=1, result_type=\"expand\")"
   ]
  },
  {
   "cell_type": "code",
   "execution_count": null,
   "metadata": {},
   "outputs": [],
   "source": [
    "%%time\n",
    "test_private2 = pd.concat([test_private, closest_hits_features2], axis=1)"
   ]
  },
  {
   "cell_type": "code",
   "execution_count": null,
   "metadata": {},
   "outputs": [],
   "source": [
    "%%time\n",
    "test_private = pd.concat([test_private, closest_hits_features], axis=1)"
   ]
  },
  {
   "cell_type": "markdown",
   "metadata": {},
   "source": [
    "# Catboost (with first variant of train and test-dataset) for track 1"
   ]
  },
  {
   "cell_type": "code",
   "execution_count": null,
   "metadata": {},
   "outputs": [
    {
     "name": "stdout",
     "output_type": "stream",
     "text": [
      "CPU times: user 1d 8h 25min 54s, sys: 20min 42s, total: 1d 8h 46min 37s\n",
      "Wall time: 2h 24min 47s\n"
     ]
    }
   ],
   "source": [
    "%%time\n",
    "model_cb = catboost.CatBoostClassifier(iterations=5000, depth=10, l2_leaf_reg=6, learning_rate=0.05, rsm = 0.7,\n",
    "                                      verbose=False, random_seed=27)\n",
    "model_cb.fit(train.drop(utils.FOI_COLUMNS + utils.TRAIN_COLUMNS + KILL_COLUMNS, axis=1).values,\n",
    "          train.label.values,\n",
    "          sample_weight=np.abs(train.weight.values), plot=False)"
   ]
  },
  {
   "cell_type": "code",
   "execution_count": 36,
   "metadata": {},
   "outputs": [
    {
     "name": "stdout",
     "output_type": "stream",
     "text": [
      "CPU times: user 38.5 s, sys: 893 ms, total: 39.4 s\n",
      "Wall time: 12.7 s\n"
     ]
    }
   ],
   "source": [
    "%%time\n",
    "predictions_cb = model_cb.predict_proba(test_private.drop(utils.FOI_COLUMNS, axis=1).values)[:, 1]        "
   ]
  },
  {
   "cell_type": "markdown",
   "metadata": {},
   "source": [
    "# LightGBM for track 1"
   ]
  },
  {
   "cell_type": "markdown",
   "metadata": {},
   "source": [
    "### As I wrote earlier, different order of new features gave me different results using LightGBM-results in ensembling of models-result later. The best result was using second variant of train and test-dataset for LightGBM"
   ]
  },
  {
   "cell_type": "code",
   "execution_count": null,
   "metadata": {},
   "outputs": [],
   "source": [
    "%%time\n",
    "lg = lgb.LGBMClassifier(boosting_type='gbdt',\n",
    "                objective = 'binary',\n",
    "                learning_rate = 0.3, \n",
    "                colsample_bytree = 0.66, \n",
    "                subsample = 0.7,\n",
    "                reg_alpha = 1,\n",
    "                v_reg_lambda = 1,\n",
    "                n_estimators = 100, \n",
    "                max_depth = 11,         \n",
    "                num_leaves = 40, \n",
    "                random_state = 27)\n",
    "\n",
    "lg.fit(train2.drop(utils.FOI_COLUMNS + utils.TRAIN_COLUMNS + KILL_COLUMNS, axis=1).values, \n",
    "                  train2.label.values, sample_weight=train2.weight.values)"
   ]
  },
  {
   "cell_type": "code",
   "execution_count": 74,
   "metadata": {},
   "outputs": [
    {
     "name": "stdout",
     "output_type": "stream",
     "text": [
      "CPU times: user 24.5 s, sys: 488 ms, total: 25 s\n",
      "Wall time: 4.36 s\n"
     ]
    }
   ],
   "source": [
    "%%time\n",
    "predictions_lgb = lg.predict_proba(test_private2.drop(utils.FOI_COLUMNS, axis=1).values)[:, 1]        "
   ]
  },
  {
   "cell_type": "markdown",
   "metadata": {},
   "source": [
    "# XGBoost (with first variant of train and test-dataset) for track 1"
   ]
  },
  {
   "cell_type": "code",
   "execution_count": null,
   "metadata": {},
   "outputs": [
    {
     "name": "stdout",
     "output_type": "stream",
     "text": [
      "[14:59:54] Tree method is automatically selected to be 'approx' for faster speed. To use old behavior (exact greedy algorithm on single machine), set tree_method to 'exact'.\n"
     ]
    }
   ],
   "source": [
    "%%time\n",
    "model_xgb = xgboost.XGBClassifier(learning_rate=0.01, n_estimators=5000, max_depth=9,\n",
    "             min_child_weight=5, gamma=0.2, subsample=0.7, colsample_bytree=0.9, reg_alpha=100,\n",
    "             objective= 'binary:logistic', nthread=16, scale_pos_weight=1, seed=27)\n",
    "    \n",
    "model_xgb.fit(train.drop(utils.FOI_COLUMNS + utils.TRAIN_COLUMNS + KILL_COLUMNS, axis=1).values,\n",
    "              train.label.values,\n",
    "              sample_weight=train.weight.values)"
   ]
  },
  {
   "cell_type": "code",
   "execution_count": null,
   "metadata": {},
   "outputs": [],
   "source": [
    "predictions_xgb = model_xgb.predict_proba(test_private.drop(utils.FOI_COLUMNS, axis=1).values)[:, 1] "
   ]
  },
  {
   "cell_type": "markdown",
   "metadata": {},
   "source": [
    "# Ensembling results for track1 and submitting"
   ]
  },
  {
   "cell_type": "code",
   "execution_count": 44,
   "metadata": {},
   "outputs": [],
   "source": [
    "predictions = (predictions_cb + predictions_lgb + predictions_xgb)/3.0"
   ]
  },
  {
   "cell_type": "code",
   "execution_count": 46,
   "metadata": {},
   "outputs": [
    {
     "name": "stdout",
     "output_type": "stream",
     "text": [
      "CPU times: user 4.34 s, sys: 92 ms, total: 4.43 s\n",
      "Wall time: 4.42 s\n"
     ]
    }
   ],
   "source": [
    "%%time\n",
    "pd.DataFrame(data={\"prediction\": predictions}, index=test_private.index).to_csv(\"submission_private.csv\", index_label=\"id\")"
   ]
  },
  {
   "cell_type": "markdown",
   "metadata": {},
   "source": [
    "# Catboost for track2"
   ]
  },
  {
   "cell_type": "code",
   "execution_count": null,
   "metadata": {},
   "outputs": [],
   "source": [
    "%%time\n",
    "#7515.35\n",
    "model_cb2 = catboost.CatBoostClassifier(iterations=771, depth=10, l2_leaf_reg=5, learning_rate=0.062, \n",
    "                                        verbose=False, random_seed=27)\n",
    "model_cb2.fit(train2.drop(utils.FOI_COLUMNS + utils.TRAIN_COLUMNS + KILL_COLUMNS, axis=1).values,\n",
    "              train2.label.values,\n",
    "              sample_weight=np.abs(train2.weight.values), plot=False)\n",
    "\n",
    "model_cb2.save_model('model_catboost_track2')"
   ]
  }
 ],
 "metadata": {
  "kernelspec": {
   "display_name": "Python 3",
   "language": "python",
   "name": "python3"
  },
  "language_info": {
   "codemirror_mode": {
    "name": "ipython",
    "version": 3
   },
   "file_extension": ".py",
   "mimetype": "text/x-python",
   "name": "python",
   "nbconvert_exporter": "python",
   "pygments_lexer": "ipython3",
   "version": "3.6.5"
  }
 },
 "nbformat": 4,
 "nbformat_minor": 2
}
